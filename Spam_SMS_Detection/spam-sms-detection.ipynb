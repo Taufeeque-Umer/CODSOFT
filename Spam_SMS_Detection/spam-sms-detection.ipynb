{
 "cells": [
  {
   "cell_type": "code",
   "execution_count": 1,
   "metadata": {},
   "outputs": [],
   "source": [
    "import pandas as pd\n",
    "from sklearn.preprocessing import LabelEncoder\n",
    "from sklearn.feature_extraction.text import TfidfVectorizer\n",
    "from sklearn.model_selection import train_test_split\n",
    "from sklearn.linear_model import LogisticRegression\n",
    "from sklearn.model_selection import train_test_split, GridSearchCV, StratifiedKFold\n",
    "from sklearn.metrics import classification_report, confusion_matrix, accuracy_score, roc_auc_score\n",
    "import nltk\n",
    "from nltk.corpus import stopwords\n",
    "from nltk.stem import WordNetLemmatizer\n",
    "import string\n",
    "from multiprocessing import Pool"
   ]
  },
  {
   "cell_type": "code",
   "execution_count": 2,
   "metadata": {},
   "outputs": [
    {
     "name": "stdout",
     "output_type": "stream",
     "text": [
      "     v1                                                 v2 Unnamed: 2  \\\n",
      "0   ham  Go until jurong point, crazy.. Available only ...        NaN   \n",
      "1   ham                      Ok lar... Joking wif u oni...        NaN   \n",
      "2  spam  Free entry in 2 a wkly comp to win FA Cup fina...        NaN   \n",
      "3   ham  U dun say so early hor... U c already then say...        NaN   \n",
      "4   ham  Nah I don't think he goes to usf, he lives aro...        NaN   \n",
      "\n",
      "  Unnamed: 3 Unnamed: 4  \n",
      "0        NaN        NaN  \n",
      "1        NaN        NaN  \n",
      "2        NaN        NaN  \n",
      "3        NaN        NaN  \n",
      "4        NaN        NaN  \n"
     ]
    }
   ],
   "source": [
    "df = pd.read_csv('Spam_SMS_Detection_Dataset/spam.csv', encoding='ISO-8859-1',)\n",
    "print(df.head())"
   ]
  },
  {
   "cell_type": "code",
   "execution_count": 3,
   "metadata": {},
   "outputs": [
    {
     "name": "stdout",
     "output_type": "stream",
     "text": [
      "<class 'pandas.core.frame.DataFrame'>\n",
      "RangeIndex: 5572 entries, 0 to 5571\n",
      "Data columns (total 5 columns):\n",
      " #   Column      Non-Null Count  Dtype \n",
      "---  ------      --------------  ----- \n",
      " 0   v1          5572 non-null   object\n",
      " 1   v2          5572 non-null   object\n",
      " 2   Unnamed: 2  50 non-null     object\n",
      " 3   Unnamed: 3  12 non-null     object\n",
      " 4   Unnamed: 4  6 non-null      object\n",
      "dtypes: object(5)\n",
      "memory usage: 217.8+ KB\n"
     ]
    }
   ],
   "source": [
    "df.info()"
   ]
  },
  {
   "cell_type": "code",
   "execution_count": 4,
   "metadata": {},
   "outputs": [
    {
     "data": {
      "text/html": [
       "<div>\n",
       "<style scoped>\n",
       "    .dataframe tbody tr th:only-of-type {\n",
       "        vertical-align: middle;\n",
       "    }\n",
       "\n",
       "    .dataframe tbody tr th {\n",
       "        vertical-align: top;\n",
       "    }\n",
       "\n",
       "    .dataframe thead th {\n",
       "        text-align: right;\n",
       "    }\n",
       "</style>\n",
       "<table border=\"1\" class=\"dataframe\">\n",
       "  <thead>\n",
       "    <tr style=\"text-align: right;\">\n",
       "      <th></th>\n",
       "      <th>v1</th>\n",
       "      <th>v2</th>\n",
       "    </tr>\n",
       "  </thead>\n",
       "  <tbody>\n",
       "    <tr>\n",
       "      <th>0</th>\n",
       "      <td>ham</td>\n",
       "      <td>Go until jurong point, crazy.. Available only ...</td>\n",
       "    </tr>\n",
       "    <tr>\n",
       "      <th>1</th>\n",
       "      <td>ham</td>\n",
       "      <td>Ok lar... Joking wif u oni...</td>\n",
       "    </tr>\n",
       "    <tr>\n",
       "      <th>2</th>\n",
       "      <td>spam</td>\n",
       "      <td>Free entry in 2 a wkly comp to win FA Cup fina...</td>\n",
       "    </tr>\n",
       "    <tr>\n",
       "      <th>3</th>\n",
       "      <td>ham</td>\n",
       "      <td>U dun say so early hor... U c already then say...</td>\n",
       "    </tr>\n",
       "    <tr>\n",
       "      <th>4</th>\n",
       "      <td>ham</td>\n",
       "      <td>Nah I don't think he goes to usf, he lives aro...</td>\n",
       "    </tr>\n",
       "  </tbody>\n",
       "</table>\n",
       "</div>"
      ],
      "text/plain": [
       "     v1                                                 v2\n",
       "0   ham  Go until jurong point, crazy.. Available only ...\n",
       "1   ham                      Ok lar... Joking wif u oni...\n",
       "2  spam  Free entry in 2 a wkly comp to win FA Cup fina...\n",
       "3   ham  U dun say so early hor... U c already then say...\n",
       "4   ham  Nah I don't think he goes to usf, he lives aro..."
      ]
     },
     "execution_count": 4,
     "metadata": {},
     "output_type": "execute_result"
    }
   ],
   "source": [
    "df.drop(columns=['Unnamed: 2', 'Unnamed: 3', 'Unnamed: 4'], inplace =True)\n",
    "df.head()"
   ]
  },
  {
   "cell_type": "code",
   "execution_count": 5,
   "metadata": {},
   "outputs": [
    {
     "data": {
      "text/html": [
       "<div>\n",
       "<style scoped>\n",
       "    .dataframe tbody tr th:only-of-type {\n",
       "        vertical-align: middle;\n",
       "    }\n",
       "\n",
       "    .dataframe tbody tr th {\n",
       "        vertical-align: top;\n",
       "    }\n",
       "\n",
       "    .dataframe thead th {\n",
       "        text-align: right;\n",
       "    }\n",
       "</style>\n",
       "<table border=\"1\" class=\"dataframe\">\n",
       "  <thead>\n",
       "    <tr style=\"text-align: right;\">\n",
       "      <th></th>\n",
       "      <th>spam_value</th>\n",
       "      <th>SMS</th>\n",
       "    </tr>\n",
       "  </thead>\n",
       "  <tbody>\n",
       "    <tr>\n",
       "      <th>0</th>\n",
       "      <td>ham</td>\n",
       "      <td>Go until jurong point, crazy.. Available only ...</td>\n",
       "    </tr>\n",
       "    <tr>\n",
       "      <th>1</th>\n",
       "      <td>ham</td>\n",
       "      <td>Ok lar... Joking wif u oni...</td>\n",
       "    </tr>\n",
       "    <tr>\n",
       "      <th>2</th>\n",
       "      <td>spam</td>\n",
       "      <td>Free entry in 2 a wkly comp to win FA Cup fina...</td>\n",
       "    </tr>\n",
       "    <tr>\n",
       "      <th>3</th>\n",
       "      <td>ham</td>\n",
       "      <td>U dun say so early hor... U c already then say...</td>\n",
       "    </tr>\n",
       "    <tr>\n",
       "      <th>4</th>\n",
       "      <td>ham</td>\n",
       "      <td>Nah I don't think he goes to usf, he lives aro...</td>\n",
       "    </tr>\n",
       "  </tbody>\n",
       "</table>\n",
       "</div>"
      ],
      "text/plain": [
       "  spam_value                                                SMS\n",
       "0        ham  Go until jurong point, crazy.. Available only ...\n",
       "1        ham                      Ok lar... Joking wif u oni...\n",
       "2       spam  Free entry in 2 a wkly comp to win FA Cup fina...\n",
       "3        ham  U dun say so early hor... U c already then say...\n",
       "4        ham  Nah I don't think he goes to usf, he lives aro..."
      ]
     },
     "execution_count": 5,
     "metadata": {},
     "output_type": "execute_result"
    }
   ],
   "source": [
    "df.columns = ['spam_value', 'SMS']\n",
    "df.head()"
   ]
  },
  {
   "cell_type": "code",
   "execution_count": 6,
   "metadata": {},
   "outputs": [
    {
     "name": "stdout",
     "output_type": "stream",
     "text": [
      "spam_value\n",
      "ham     4825\n",
      "spam     747\n",
      "Name: count, dtype: int64\n"
     ]
    }
   ],
   "source": [
    "print(df['spam_value'].value_counts())"
   ]
  },
  {
   "cell_type": "code",
   "execution_count": 7,
   "metadata": {},
   "outputs": [
    {
     "data": {
      "text/html": [
       "<div>\n",
       "<style scoped>\n",
       "    .dataframe tbody tr th:only-of-type {\n",
       "        vertical-align: middle;\n",
       "    }\n",
       "\n",
       "    .dataframe tbody tr th {\n",
       "        vertical-align: top;\n",
       "    }\n",
       "\n",
       "    .dataframe thead th {\n",
       "        text-align: right;\n",
       "    }\n",
       "</style>\n",
       "<table border=\"1\" class=\"dataframe\">\n",
       "  <thead>\n",
       "    <tr style=\"text-align: right;\">\n",
       "      <th></th>\n",
       "      <th>spam_value</th>\n",
       "      <th>SMS</th>\n",
       "    </tr>\n",
       "  </thead>\n",
       "  <tbody>\n",
       "    <tr>\n",
       "      <th>0</th>\n",
       "      <td>0</td>\n",
       "      <td>Go until jurong point, crazy.. Available only ...</td>\n",
       "    </tr>\n",
       "    <tr>\n",
       "      <th>1</th>\n",
       "      <td>0</td>\n",
       "      <td>Ok lar... Joking wif u oni...</td>\n",
       "    </tr>\n",
       "    <tr>\n",
       "      <th>2</th>\n",
       "      <td>1</td>\n",
       "      <td>Free entry in 2 a wkly comp to win FA Cup fina...</td>\n",
       "    </tr>\n",
       "    <tr>\n",
       "      <th>3</th>\n",
       "      <td>0</td>\n",
       "      <td>U dun say so early hor... U c already then say...</td>\n",
       "    </tr>\n",
       "    <tr>\n",
       "      <th>4</th>\n",
       "      <td>0</td>\n",
       "      <td>Nah I don't think he goes to usf, he lives aro...</td>\n",
       "    </tr>\n",
       "  </tbody>\n",
       "</table>\n",
       "</div>"
      ],
      "text/plain": [
       "   spam_value                                                SMS\n",
       "0           0  Go until jurong point, crazy.. Available only ...\n",
       "1           0                      Ok lar... Joking wif u oni...\n",
       "2           1  Free entry in 2 a wkly comp to win FA Cup fina...\n",
       "3           0  U dun say so early hor... U c already then say...\n",
       "4           0  Nah I don't think he goes to usf, he lives aro..."
      ]
     },
     "execution_count": 7,
     "metadata": {},
     "output_type": "execute_result"
    }
   ],
   "source": [
    "df['spam_value']=df['spam_value'].map({'ham':0, 'spam': 1})\n",
    "df.head()"
   ]
  },
  {
   "cell_type": "code",
   "execution_count": 8,
   "metadata": {},
   "outputs": [
    {
     "name": "stderr",
     "output_type": "stream",
     "text": [
      "[nltk_data] Downloading package stopwords to\n",
      "[nltk_data]     C:\\Users\\mskie\\AppData\\Roaming\\nltk_data...\n",
      "[nltk_data]   Package stopwords is already up-to-date!\n",
      "[nltk_data] Downloading package punkt to\n",
      "[nltk_data]     C:\\Users\\mskie\\AppData\\Roaming\\nltk_data...\n",
      "[nltk_data]   Package punkt is already up-to-date!\n",
      "[nltk_data] Downloading package wordnet to\n",
      "[nltk_data]     C:\\Users\\mskie\\AppData\\Roaming\\nltk_data...\n",
      "[nltk_data]   Package wordnet is already up-to-date!\n"
     ]
    }
   ],
   "source": [
    "\n",
    "nltk.download('stopwords')\n",
    "nltk.download('punkt')\n",
    "nltk.download('wordnet')\n",
    "\n",
    "lemme = WordNetLemmatizer()\n",
    "\n",
    "stopWords = set(stopwords.words('english'))\n",
    "punc = set(string.punctuation)"
   ]
  },
  {
   "cell_type": "code",
   "execution_count": 9,
   "metadata": {},
   "outputs": [],
   "source": [
    "def process_sms(text):\n",
    "    token = nltk.word_tokenize(text)\n",
    "    token = [lemme.lemmatize(word.lower()) for word in token if word not in punc and word.lower() not in stopWords]\n",
    "    clean_text = ' '.join(token)\n",
    "    return clean_text\n",
    "\n",
    "df['SMS'] = df['SMS'].apply(process_sms)"
   ]
  },
  {
   "cell_type": "code",
   "execution_count": 10,
   "metadata": {},
   "outputs": [
    {
     "name": "stdout",
     "output_type": "stream",
     "text": [
      "   spam_value                                                SMS\n",
      "0           0  go jurong point crazy .. available bugis n gre...\n",
      "1           0                    ok lar ... joking wif u oni ...\n",
      "2           1  free entry 2 wkly comp win fa cup final tkts 2...\n",
      "3           0        u dun say early hor ... u c already say ...\n",
      "4           0            nah n't think go usf life around though\n"
     ]
    }
   ],
   "source": [
    "print(df.head())"
   ]
  },
  {
   "cell_type": "code",
   "execution_count": 11,
   "metadata": {},
   "outputs": [],
   "source": [
    "vectorizer = TfidfVectorizer()\n",
    "\n",
    "X= vectorizer.fit_transform(df[\"SMS\"])\n",
    "Y = df[\"spam_value\"]"
   ]
  },
  {
   "cell_type": "code",
   "execution_count": 12,
   "metadata": {},
   "outputs": [
    {
     "name": "stdout",
     "output_type": "stream",
     "text": [
      "<Compressed Sparse Row sparse matrix of dtype 'float64'\n",
      "\twith 47919 stored elements and shape (5572, 8114)>\n",
      "  Coords\tValues\n",
      "  (0, 3366)\t0.15520006241648393\n",
      "  (0, 4110)\t0.3501488358489382\n",
      "  (0, 5556)\t0.23908902803852988\n",
      "  (0, 2226)\t0.2711661702168244\n",
      "  (0, 1273)\t0.26189990994192225\n",
      "  (0, 1692)\t0.2958071514722134\n",
      "  (0, 3442)\t0.19342240984703865\n",
      "  (0, 7940)\t0.23472906775355987\n",
      "  (0, 4228)\t0.2958071514722134\n",
      "  (0, 1690)\t0.3342549120557338\n",
      "  (0, 1969)\t0.2958071514722134\n",
      "  (0, 3405)\t0.1624828014633748\n",
      "  (0, 1051)\t0.3501488358489382\n",
      "  (0, 7739)\t0.19564182742080344\n",
      "  (1, 5175)\t0.27211951321382544\n",
      "  (1, 4261)\t0.4082988561907181\n",
      "  (1, 4080)\t0.5236458071582338\n",
      "  (1, 7852)\t0.4316010362639011\n",
      "  (1, 5202)\t0.5465881710238072\n",
      "  (2, 3189)\t0.11567418757722363\n",
      "  (2, 2807)\t0.3610126061987564\n",
      "  (2, 7902)\t0.1910856844514371\n",
      "  (2, 2078)\t0.1950385539618722\n",
      "  (2, 7864)\t0.14662823828170074\n",
      "  (2, 2939)\t0.4710862612423468\n",
      "  :\t:\n",
      "  (5567, 165)\t0.3404219056787515\n",
      "  (5567, 5094)\t0.3404219056787515\n",
      "  (5568, 3684)\t0.3381624442072128\n",
      "  (5568, 3377)\t0.33726519867912935\n",
      "  (5568, 8100)\t0.37764633472218584\n",
      "  (5568, 3176)\t0.5182632994409236\n",
      "  (5568, 2838)\t0.6005703500933404\n",
      "  (5569, 4821)\t0.5154637494387073\n",
      "  (5569, 6902)\t0.5916968433151221\n",
      "  (5569, 5490)\t0.6198322100581006\n",
      "  (5570, 3189)\t0.1865522907556866\n",
      "  (5570, 7781)\t0.21371651530668265\n",
      "  (5570, 4351)\t0.18616658586929005\n",
      "  (5570, 5011)\t0.24567748313192178\n",
      "  (5570, 6608)\t0.24018763707913499\n",
      "  (5570, 2752)\t0.28541477917886365\n",
      "  (5570, 3291)\t0.3219883430308595\n",
      "  (5570, 1724)\t0.33092794881714266\n",
      "  (5570, 3492)\t0.2449530991049538\n",
      "  (5570, 3930)\t0.33092794881714266\n",
      "  (5570, 896)\t0.37986962787018413\n",
      "  (5570, 1500)\t0.39793254541891676\n",
      "  (5571, 4926)\t0.4831669484933064\n",
      "  (5571, 7375)\t0.5333877543546108\n",
      "  (5571, 6102)\t0.6942961928371867\n"
     ]
    }
   ],
   "source": [
    "print(X)"
   ]
  },
  {
   "cell_type": "code",
   "execution_count": 13,
   "metadata": {},
   "outputs": [],
   "source": [
    "X_train, X_test, Y_train, Y_test = train_test_split(X, Y, train_size=0.75, stratify=Y)"
   ]
  },
  {
   "cell_type": "code",
   "execution_count": 14,
   "metadata": {},
   "outputs": [],
   "source": [
    "from sklearn.naive_bayes import MultinomialNB\n",
    "from sklearn.svm import SVC\n",
    "my_models = {\n",
    "    \"Logistic Regression\" : LogisticRegression(random_state=42), \n",
    "    \"Naive Bayes\" : MultinomialNB(),\n",
    "    \"SVM\" : SVC(random_state=42)\n",
    "}\n",
    "\n",
    "parameters = {\n",
    "    \"Logistic Regression\" : {\n",
    "        'solver': ['liblinear', 'saga'],\n",
    "        'penalty': ['l1', 'l2'],\n",
    "        'C': [0.01, 0.1, 1, 10],\n",
    "        'class_weight': [None, 'balanced']\n",
    "    }, \n",
    "\n",
    "    \"Naive Bayes\" : {\n",
    "        'alpha': [0.1, 0.2, 0.5, 1.0, 2.0],\n",
    "        'fit_prior': [True, False],\n",
    "        'class_prior': [None]\n",
    "    },\n",
    "\n",
    "    \"SVM\" : {\n",
    "        'C': [0.1, 1, 10, 100],\n",
    "        'kernel': ['linear', 'poly', 'rbf', 'sigmoid'],\n",
    "        'degree': [2, 3, 4], \n",
    "        'gamma': ['scale', 'auto'],\n",
    "        'coef0': [0, 0.1, 0.5],\n",
    "        'probability': [True, False],\n",
    "        'class_weight': [None, 'balanced']\n",
    "    }\n",
    "}"
   ]
  },
  {
   "cell_type": "code",
   "execution_count": 15,
   "metadata": {},
   "outputs": [
    {
     "name": "stdout",
     "output_type": "stream",
     "text": [
      "running for Logistic Regression\n"
     ]
    },
    {
     "name": "stderr",
     "output_type": "stream",
     "text": [
      "c:\\Users\\mskie\\AppData\\Local\\Programs\\Python\\Python312\\Lib\\site-packages\\sklearn\\linear_model\\_sag.py:349: ConvergenceWarning: The max_iter was reached which means the coef_ did not converge\n",
      "  warnings.warn(\n"
     ]
    },
    {
     "name": "stdout",
     "output_type": "stream",
     "text": [
      "running for Naive Bayes\n",
      "running for SVM\n"
     ]
    }
   ],
   "source": [
    "cv = StratifiedKFold(n_splits=5, shuffle=True, random_state=42)\n",
    "\n",
    "for my_model_name, model in my_models.items():\n",
    "    print(f\"running for {my_model_name}\")\n",
    "    grid_search = GridSearchCV(estimator=model, param_grid=parameters[my_model_name], cv=3, scoring='roc_auc', n_jobs=-1)\n",
    "    grid_search.fit(X_train, Y_train)\n",
    "\n",
    "    if my_model_name == 'Logistic Regression':\n",
    "        best_model_lg = grid_search.best_estimator_\n",
    "\n",
    "    elif my_model_name == \"Naive Bayes\":\n",
    "        best_model_dt = grid_search.best_estimator_\n",
    "        \n",
    "    elif my_model_name == \"SVM\":\n",
    "        best_model_svm = grid_search.best_estimator_"
   ]
  },
  {
   "cell_type": "code",
   "execution_count": 16,
   "metadata": {},
   "outputs": [
    {
     "name": "stdout",
     "output_type": "stream",
     "text": [
      "For Logistic Regression:\n",
      "accuracy:  0.9777458722182341\n",
      "ROC AUC score 0.9216307056517767\n",
      "Classification report               precision    recall  f1-score   support\n",
      "\n",
      "           0       0.98      1.00      0.99      1206\n",
      "           1       0.99      0.84      0.91       187\n",
      "\n",
      "    accuracy                           0.98      1393\n",
      "   macro avg       0.98      0.92      0.95      1393\n",
      "weighted avg       0.98      0.98      0.98      1393\n",
      "\n"
     ]
    },
    {
     "name": "stderr",
     "output_type": "stream",
     "text": [
      "c:\\Users\\mskie\\AppData\\Local\\Programs\\Python\\Python312\\Lib\\site-packages\\sklearn\\linear_model\\_sag.py:349: ConvergenceWarning: The max_iter was reached which means the coef_ did not converge\n",
      "  warnings.warn(\n"
     ]
    }
   ],
   "source": [
    "model_lg = best_model_lg\n",
    "model_lg.fit(X_train, Y_train)\n",
    "y_lg = model_lg.predict(X_test)\n",
    "\n",
    "print('For Logistic Regression:')\n",
    "print('accuracy: ', accuracy_score(Y_test, y_lg))\n",
    "print('ROC AUC score', roc_auc_score(Y_test, y_lg))\n",
    "print('Classification report', classification_report(Y_test, y_lg))"
   ]
  },
  {
   "cell_type": "code",
   "execution_count": 17,
   "metadata": {},
   "outputs": [
    {
     "name": "stdout",
     "output_type": "stream",
     "text": [
      "For Naive Bayes:\n",
      "accuracy:  0.9877961234745154\n",
      "ROC AUC score 0.968100673105063\n",
      "Classification report               precision    recall  f1-score   support\n",
      "\n",
      "           0       0.99      1.00      0.99      1206\n",
      "           1       0.97      0.94      0.95       187\n",
      "\n",
      "    accuracy                           0.99      1393\n",
      "   macro avg       0.98      0.97      0.97      1393\n",
      "weighted avg       0.99      0.99      0.99      1393\n",
      "\n"
     ]
    }
   ],
   "source": [
    "model_nb = best_model_dt\n",
    "model_nb.fit(X_train, Y_train)\n",
    "y_nb = model_nb.predict(X_test)\n",
    "\n",
    "print('For Naive Bayes:')\n",
    "print('accuracy: ', accuracy_score(Y_test, y_nb))\n",
    "print('ROC AUC score', roc_auc_score(Y_test, y_nb))\n",
    "print('Classification report', classification_report(Y_test, y_nb))"
   ]
  },
  {
   "cell_type": "code",
   "execution_count": 18,
   "metadata": {},
   "outputs": [
    {
     "name": "stdout",
     "output_type": "stream",
     "text": [
      "For SVM:\n",
      "accuracy:  0.9698492462311558\n",
      "ROC AUC score 0.8899597378526264\n",
      "Classification report               precision    recall  f1-score   support\n",
      "\n",
      "           0       0.97      1.00      0.98      1206\n",
      "           1       0.99      0.78      0.87       187\n",
      "\n",
      "    accuracy                           0.97      1393\n",
      "   macro avg       0.98      0.89      0.93      1393\n",
      "weighted avg       0.97      0.97      0.97      1393\n",
      "\n"
     ]
    }
   ],
   "source": [
    "model_svm = best_model_svm\n",
    "model_svm.fit(X_train, Y_train)\n",
    "y_svm = model_svm.predict(X_test)\n",
    "\n",
    "print('For SVM:')\n",
    "print('accuracy: ', accuracy_score(Y_test, y_svm))\n",
    "print('ROC AUC score', roc_auc_score(Y_test, y_svm))\n",
    "print('Classification report', classification_report(Y_test, y_svm))"
   ]
  }
 ],
 "metadata": {
  "kernelspec": {
   "display_name": "Python 3",
   "language": "python",
   "name": "python3"
  },
  "language_info": {
   "codemirror_mode": {
    "name": "ipython",
    "version": 3
   },
   "file_extension": ".py",
   "mimetype": "text/x-python",
   "name": "python",
   "nbconvert_exporter": "python",
   "pygments_lexer": "ipython3",
   "version": "3.12.4"
  }
 },
 "nbformat": 4,
 "nbformat_minor": 2
}
