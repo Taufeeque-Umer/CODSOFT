{
  "nbformat": 4,
  "nbformat_minor": 0,
  "metadata": {
    "colab": {
      "provenance": [],
      "gpuType": "V28"
    },
    "kernelspec": {
      "name": "python3",
      "display_name": "Python 3"
    },
    "language_info": {
      "name": "python"
    },
    "accelerator": "TPU"
  },
  "cells": [
    {
      "cell_type": "code",
      "execution_count": 1,
      "metadata": {
        "id": "63zyq5X_tVCx"
      },
      "outputs": [],
      "source": [
        "import pandas as pd\n",
        "from sklearn.feature_extraction.text import TfidfVectorizer\n",
        "from sklearn.linear_model import LogisticRegression\n",
        "from sklearn.metrics import accuracy_score, classification_report\n",
        "import nltk\n",
        "from nltk.corpus import stopwords\n",
        "from nltk.stem import WordNetLemmatizer\n",
        "import string\n",
        "from sklearn.metrics import confusion_matrix\n",
        "from multiprocessing import Pool"
      ]
    },
    {
      "cell_type": "code",
      "source": [
        "nltk.download('stopwords')\n",
        "nltk.download('punkt')\n",
        "nltk.download('wordnet')\n",
        "nltk.download('omw-1.4')\n",
        "\n",
        "lemmetizer = WordNetLemmatizer()\n",
        "\n",
        "stop_words = stopwords.words('english')\n",
        "stopWords = set(stop_words)\n",
        "punctuation = set(string.punctuation)"
      ],
      "metadata": {
        "colab": {
          "base_uri": "https://localhost:8080/"
        },
        "id": "KDDyIti6Vec5",
        "outputId": "d9aac971-9b1f-414a-81fb-a59a95936231"
      },
      "execution_count": 2,
      "outputs": [
        {
          "output_type": "stream",
          "name": "stderr",
          "text": [
            "[nltk_data] Downloading package stopwords to /root/nltk_data...\n",
            "[nltk_data]   Unzipping corpora/stopwords.zip.\n",
            "[nltk_data] Downloading package punkt to /root/nltk_data...\n",
            "[nltk_data]   Unzipping tokenizers/punkt.zip.\n",
            "[nltk_data] Downloading package wordnet to /root/nltk_data...\n",
            "[nltk_data] Downloading package omw-1.4 to /root/nltk_data...\n"
          ]
        }
      ]
    },
    {
      "cell_type": "code",
      "source": [
        "df = pd.read_csv('Genre_Classification_Dataset/train_data.txt', sep=':::', header = None)\n",
        "df.columns = [\"id\", \"title\", \"genre\", \"description\"]\n",
        "print(df.head())"
      ],
      "metadata": {
        "colab": {
          "base_uri": "https://localhost:8080/"
        },
        "id": "znz1wfeNVrdW",
        "outputId": "f4b1ea03-9f9b-48ce-c96c-2d50f99cf98a"
      },
      "execution_count": 3,
      "outputs": [
        {
          "output_type": "stream",
          "name": "stderr",
          "text": [
            "<ipython-input-3-f403bf758bb6>:1: ParserWarning: Falling back to the 'python' engine because the 'c' engine does not support regex separators (separators > 1 char and different from '\\s+' are interpreted as regex); you can avoid this warning by specifying engine='python'.\n",
            "  df = pd.read_csv('Genre_Classification_Dataset/train_data.txt', sep=':::', header = None)\n"
          ]
        },
        {
          "output_type": "stream",
          "name": "stdout",
          "text": [
            "   id                               title       genre  \\\n",
            "0   1       Oscar et la dame rose (2009)       drama    \n",
            "1   2                       Cupid (1997)    thriller    \n",
            "2   3   Young, Wild and Wonderful (1980)       adult    \n",
            "3   4              The Secret Sin (1915)       drama    \n",
            "4   5             The Unrecovered (2007)       drama    \n",
            "\n",
            "                                         description  \n",
            "0   Listening in to a conversation between his do...  \n",
            "1   A brother and sister with a past incestuous r...  \n",
            "2   As the bus empties the students for their fie...  \n",
            "3   To help their unemployed father make ends mee...  \n",
            "4   The film's title refers not only to the un-re...  \n"
          ]
        }
      ]
    },
    {
      "cell_type": "code",
      "source": [
        "genre_counts = df['genre'].value_counts()\n",
        "print(genre_counts)"
      ],
      "metadata": {
        "colab": {
          "base_uri": "https://localhost:8080/"
        },
        "id": "TWXM4bokKj9E",
        "outputId": "2d83df74-cb7f-48b0-abfc-57a9c1e58003"
      },
      "execution_count": 4,
      "outputs": [
        {
          "output_type": "stream",
          "name": "stdout",
          "text": [
            "genre\n",
            " drama           13613\n",
            " documentary     13096\n",
            " comedy           7447\n",
            " short            5073\n",
            " horror           2204\n",
            " thriller         1591\n",
            " action           1315\n",
            " western          1032\n",
            " reality-tv        884\n",
            " family            784\n",
            " adventure         775\n",
            " music             731\n",
            " romance           672\n",
            " sci-fi            647\n",
            " adult             590\n",
            " crime             505\n",
            " animation         498\n",
            " sport             432\n",
            " talk-show         391\n",
            " fantasy           323\n",
            " mystery           319\n",
            " musical           277\n",
            " biography         265\n",
            " history           243\n",
            " game-show         194\n",
            " news              181\n",
            " war               132\n",
            "Name: count, dtype: int64\n"
          ]
        }
      ]
    },
    {
      "cell_type": "code",
      "source": [
        "def process_text(doc):\n",
        "  token = nltk.word_tokenize(doc)\n",
        "  token = [lemmetizer.lemmatize(word.lower()) for word in token if word not in punctuation and word.lower() not in stopWords]\n",
        "  clean_text = ' '.join(token)\n",
        "  return clean_text\n",
        "\n",
        "if __name__ == '__main__':\n",
        "    with Pool() as pool:\n",
        "        df['clean_description]'] = pool.map(process_text, df['description'])\n",
        "\n",
        "print(df.head())"
      ],
      "metadata": {
        "colab": {
          "base_uri": "https://localhost:8080/"
        },
        "id": "BppkzZjmqEZU",
        "outputId": "20ff5f36-5770-4f6c-dc1a-0885f148c14b"
      },
      "execution_count": 5,
      "outputs": [
        {
          "output_type": "stream",
          "name": "stdout",
          "text": [
            "   id                               title       genre  \\\n",
            "0   1       Oscar et la dame rose (2009)       drama    \n",
            "1   2                       Cupid (1997)    thriller    \n",
            "2   3   Young, Wild and Wonderful (1980)       adult    \n",
            "3   4              The Secret Sin (1915)       drama    \n",
            "4   5             The Unrecovered (2007)       drama    \n",
            "\n",
            "                                         description  \\\n",
            "0   Listening in to a conversation between his do...   \n",
            "1   A brother and sister with a past incestuous r...   \n",
            "2   As the bus empties the students for their fie...   \n",
            "3   To help their unemployed father make ends mee...   \n",
            "4   The film's title refers not only to the un-re...   \n",
            "\n",
            "                                  clean_description]  \n",
            "0  listening conversation doctor parent 10-year-o...  \n",
            "1  brother sister past incestuous relationship cu...  \n",
            "2  bus empty student field trip museum natural hi...  \n",
            "3  help unemployed father make end meet edith twi...  \n",
            "4  film 's title refers un-recovered body ground ...  \n"
          ]
        }
      ]
    },
    {
      "cell_type": "code",
      "source": [
        "vectorizer = TfidfVectorizer(max_features = 5000, ngram_range=(1,3))\n",
        "X = vectorizer.fit_transform(df['clean_description]'])\n",
        "y = df['genre']"
      ],
      "metadata": {
        "id": "jW8jvXKT-qOK"
      },
      "execution_count": 6,
      "outputs": []
    },
    {
      "cell_type": "code",
      "source": [
        "df_test = pd.read_csv('Genre_Classification_Dataset/test_data_solution.txt', sep=':::', header=None)\n",
        "df_test.columns = ['id', 'title', 'genre', 'description']\n",
        "\n",
        "print(df_test.head())\n",
        "\n",
        "df_test['clean_description'] = df_test['description'].apply(process_text)\n",
        "print(\"\\n after cleaning\")\n",
        "print(df_test.head())\n",
        "\n",
        "x_test = vectorizer.fit_transform(df_test['clean_description'])\n",
        "print(\"\\n after vectorizing\")\n",
        "print(x_test)"
      ],
      "metadata": {
        "id": "RN7NYhznEYS4",
        "colab": {
          "base_uri": "https://localhost:8080/"
        },
        "outputId": "9941d257-4a42-472d-c38f-3859ba0c8a82"
      },
      "execution_count": 7,
      "outputs": [
        {
          "output_type": "stream",
          "name": "stderr",
          "text": [
            "<ipython-input-7-c06312b0a24d>:1: ParserWarning: Falling back to the 'python' engine because the 'c' engine does not support regex separators (separators > 1 char and different from '\\s+' are interpreted as regex); you can avoid this warning by specifying engine='python'.\n",
            "  df_test = pd.read_csv('Genre_Classification_Dataset/test_data_solution.txt', sep=':::', header=None)\n"
          ]
        },
        {
          "output_type": "stream",
          "name": "stdout",
          "text": [
            "   id                          title          genre  \\\n",
            "0   1          Edgar's Lunch (1998)       thriller    \n",
            "1   2      La guerra de papá (1977)         comedy    \n",
            "2   3   Off the Beaten Track (2010)    documentary    \n",
            "3   4        Meu Amigo Hindu (2015)          drama    \n",
            "4   5             Er nu zhai (1955)          drama    \n",
            "\n",
            "                                         description  \n",
            "0   L.R. Brane loves his life - his car, his apar...  \n",
            "1   Spain, March 1964: Quico is a very naughty ch...  \n",
            "2   One year in the life of Albin and his family ...  \n",
            "3   His father has died, he hasn't spoken with hi...  \n",
            "4   Before he was known internationally as a mart...  \n",
            "\n",
            " after cleaning\n",
            "   id                          title          genre  \\\n",
            "0   1          Edgar's Lunch (1998)       thriller    \n",
            "1   2      La guerra de papá (1977)         comedy    \n",
            "2   3   Off the Beaten Track (2010)    documentary    \n",
            "3   4        Meu Amigo Hindu (2015)          drama    \n",
            "4   5             Er nu zhai (1955)          drama    \n",
            "\n",
            "                                         description  \\\n",
            "0   L.R. Brane loves his life - his car, his apar...   \n",
            "1   Spain, March 1964: Quico is a very naughty ch...   \n",
            "2   One year in the life of Albin and his family ...   \n",
            "3   His father has died, he hasn't spoken with hi...   \n",
            "4   Before he was known internationally as a mart...   \n",
            "\n",
            "                                   clean_description  \n",
            "0  l.r brane love life car apartment job especial...  \n",
            "1  spain march 1964 quico naughty child three bel...  \n",
            "2  one year life albin family shepherd north tran...  \n",
            "3  father died n't spoken brother 10 year serious...  \n",
            "4  known internationally martial art superstar br...  \n",
            "\n",
            " after vectorizing\n",
            "  (0, 3153)\t0.14768153088080255\n",
            "  (0, 2716)\t0.19922189692129633\n",
            "  (0, 1780)\t0.16290417733786702\n",
            "  (0, 4929)\t0.1363746586997775\n",
            "  (0, 999)\t0.20744443520521957\n",
            "  (0, 2899)\t0.14706031899971864\n",
            "  (0, 3119)\t0.2220761759344875\n",
            "  (0, 294)\t0.12878321029052628\n",
            "  (0, 1570)\t0.13072119501911297\n",
            "  (0, 4272)\t0.15722455143953218\n",
            "  (0, 4554)\t0.21252007534188624\n",
            "  (0, 488)\t0.1244100607429261\n",
            "  (0, 1609)\t0.34727522067012717\n",
            "  (0, 4568)\t0.1861343284542954\n",
            "  (0, 1574)\t0.13061619851477904\n",
            "  (0, 1982)\t0.17399421516333696\n",
            "  (0, 3759)\t0.12386494090238039\n",
            "  (0, 2909)\t0.1642330257607417\n",
            "  (0, 4615)\t0.1518146735830668\n",
            "  (0, 3564)\t0.20294074443650673\n",
            "  (0, 667)\t0.1793368150890824\n",
            "  (0, 4256)\t0.17927627480071576\n",
            "  (0, 4276)\t0.13744453723427175\n",
            "  (0, 144)\t0.14366667142294087\n",
            "  (0, 3849)\t0.26149499675794236\n",
            "  :\t:\n",
            "  (54199, 990)\t0.21084134939758864\n",
            "  (54199, 4361)\t0.16289830985627946\n",
            "  (54199, 4862)\t0.1436656151605252\n",
            "  (54199, 1327)\t0.21059179542187206\n",
            "  (54199, 1865)\t0.251830791541338\n",
            "  (54199, 1282)\t0.2400397492644411\n",
            "  (54199, 2155)\t0.12102441377574556\n",
            "  (54199, 2966)\t0.15476484454668119\n",
            "  (54199, 4903)\t0.17712599024377712\n",
            "  (54199, 2856)\t0.11765374786360305\n",
            "  (54199, 3253)\t0.17350964644237973\n",
            "  (54199, 1092)\t0.15579853322450374\n",
            "  (54199, 2644)\t0.14232637354661928\n",
            "  (54199, 251)\t0.13487530183984286\n",
            "  (54199, 2209)\t0.11605656723404358\n",
            "  (54199, 825)\t0.21411587722506373\n",
            "  (54199, 2693)\t0.11353517231654989\n",
            "  (54199, 1542)\t0.21401281107103093\n",
            "  (54199, 4409)\t0.14348521913758894\n",
            "  (54199, 4911)\t0.12747332472246695\n",
            "  (54199, 2010)\t0.12584456466943672\n",
            "  (54199, 1652)\t0.11965036452977199\n",
            "  (54199, 3286)\t0.09349826660430395\n",
            "  (54199, 701)\t0.13807648809676298\n",
            "  (54199, 2622)\t0.06516000091332214\n"
          ]
        }
      ]
    },
    {
      "cell_type": "code",
      "source": [
        "ytest  = df_test['genre']\n",
        "print(ytest.head())"
      ],
      "metadata": {
        "colab": {
          "base_uri": "https://localhost:8080/"
        },
        "id": "-Dt9ly83dPU2",
        "outputId": "7cf28cbc-7a62-4ab3-b53c-141bef895f35"
      },
      "execution_count": 8,
      "outputs": [
        {
          "output_type": "stream",
          "name": "stdout",
          "text": [
            "0        thriller \n",
            "1          comedy \n",
            "2     documentary \n",
            "3           drama \n",
            "4           drama \n",
            "Name: genre, dtype: object\n"
          ]
        }
      ]
    },
    {
      "cell_type": "code",
      "source": [
        "model = LogisticRegression(C = 0.057, max_iter=1000)\n",
        "model.fit(X, y)"
      ],
      "metadata": {
        "colab": {
          "base_uri": "https://localhost:8080/",
          "height": 74
        },
        "id": "ORXaRmUa-9j-",
        "outputId": "d1c1f784-c8ae-4e72-bd75-756d6064ca72"
      },
      "execution_count": 9,
      "outputs": [
        {
          "output_type": "execute_result",
          "data": {
            "text/plain": [
              "LogisticRegression(C=0.057, max_iter=1000)"
            ],
            "text/html": [
              "<style>#sk-container-id-1 {color: black;background-color: white;}#sk-container-id-1 pre{padding: 0;}#sk-container-id-1 div.sk-toggleable {background-color: white;}#sk-container-id-1 label.sk-toggleable__label {cursor: pointer;display: block;width: 100%;margin-bottom: 0;padding: 0.3em;box-sizing: border-box;text-align: center;}#sk-container-id-1 label.sk-toggleable__label-arrow:before {content: \"▸\";float: left;margin-right: 0.25em;color: #696969;}#sk-container-id-1 label.sk-toggleable__label-arrow:hover:before {color: black;}#sk-container-id-1 div.sk-estimator:hover label.sk-toggleable__label-arrow:before {color: black;}#sk-container-id-1 div.sk-toggleable__content {max-height: 0;max-width: 0;overflow: hidden;text-align: left;background-color: #f0f8ff;}#sk-container-id-1 div.sk-toggleable__content pre {margin: 0.2em;color: black;border-radius: 0.25em;background-color: #f0f8ff;}#sk-container-id-1 input.sk-toggleable__control:checked~div.sk-toggleable__content {max-height: 200px;max-width: 100%;overflow: auto;}#sk-container-id-1 input.sk-toggleable__control:checked~label.sk-toggleable__label-arrow:before {content: \"▾\";}#sk-container-id-1 div.sk-estimator input.sk-toggleable__control:checked~label.sk-toggleable__label {background-color: #d4ebff;}#sk-container-id-1 div.sk-label input.sk-toggleable__control:checked~label.sk-toggleable__label {background-color: #d4ebff;}#sk-container-id-1 input.sk-hidden--visually {border: 0;clip: rect(1px 1px 1px 1px);clip: rect(1px, 1px, 1px, 1px);height: 1px;margin: -1px;overflow: hidden;padding: 0;position: absolute;width: 1px;}#sk-container-id-1 div.sk-estimator {font-family: monospace;background-color: #f0f8ff;border: 1px dotted black;border-radius: 0.25em;box-sizing: border-box;margin-bottom: 0.5em;}#sk-container-id-1 div.sk-estimator:hover {background-color: #d4ebff;}#sk-container-id-1 div.sk-parallel-item::after {content: \"\";width: 100%;border-bottom: 1px solid gray;flex-grow: 1;}#sk-container-id-1 div.sk-label:hover label.sk-toggleable__label {background-color: #d4ebff;}#sk-container-id-1 div.sk-serial::before {content: \"\";position: absolute;border-left: 1px solid gray;box-sizing: border-box;top: 0;bottom: 0;left: 50%;z-index: 0;}#sk-container-id-1 div.sk-serial {display: flex;flex-direction: column;align-items: center;background-color: white;padding-right: 0.2em;padding-left: 0.2em;position: relative;}#sk-container-id-1 div.sk-item {position: relative;z-index: 1;}#sk-container-id-1 div.sk-parallel {display: flex;align-items: stretch;justify-content: center;background-color: white;position: relative;}#sk-container-id-1 div.sk-item::before, #sk-container-id-1 div.sk-parallel-item::before {content: \"\";position: absolute;border-left: 1px solid gray;box-sizing: border-box;top: 0;bottom: 0;left: 50%;z-index: -1;}#sk-container-id-1 div.sk-parallel-item {display: flex;flex-direction: column;z-index: 1;position: relative;background-color: white;}#sk-container-id-1 div.sk-parallel-item:first-child::after {align-self: flex-end;width: 50%;}#sk-container-id-1 div.sk-parallel-item:last-child::after {align-self: flex-start;width: 50%;}#sk-container-id-1 div.sk-parallel-item:only-child::after {width: 0;}#sk-container-id-1 div.sk-dashed-wrapped {border: 1px dashed gray;margin: 0 0.4em 0.5em 0.4em;box-sizing: border-box;padding-bottom: 0.4em;background-color: white;}#sk-container-id-1 div.sk-label label {font-family: monospace;font-weight: bold;display: inline-block;line-height: 1.2em;}#sk-container-id-1 div.sk-label-container {text-align: center;}#sk-container-id-1 div.sk-container {/* jupyter's `normalize.less` sets `[hidden] { display: none; }` but bootstrap.min.css set `[hidden] { display: none !important; }` so we also need the `!important` here to be able to override the default hidden behavior on the sphinx rendered scikit-learn.org. See: https://github.com/scikit-learn/scikit-learn/issues/21755 */display: inline-block !important;position: relative;}#sk-container-id-1 div.sk-text-repr-fallback {display: none;}</style><div id=\"sk-container-id-1\" class=\"sk-top-container\"><div class=\"sk-text-repr-fallback\"><pre>LogisticRegression(C=0.057, max_iter=1000)</pre><b>In a Jupyter environment, please rerun this cell to show the HTML representation or trust the notebook. <br />On GitHub, the HTML representation is unable to render, please try loading this page with nbviewer.org.</b></div><div class=\"sk-container\" hidden><div class=\"sk-item\"><div class=\"sk-estimator sk-toggleable\"><input class=\"sk-toggleable__control sk-hidden--visually\" id=\"sk-estimator-id-1\" type=\"checkbox\" checked><label for=\"sk-estimator-id-1\" class=\"sk-toggleable__label sk-toggleable__label-arrow\">LogisticRegression</label><div class=\"sk-toggleable__content\"><pre>LogisticRegression(C=0.057, max_iter=1000)</pre></div></div></div></div></div>"
            ]
          },
          "metadata": {},
          "execution_count": 9
        }
      ]
    },
    {
      "cell_type": "code",
      "source": [
        "y_ = model.predict(X)\n",
        "print(\"train accuracy: \", accuracy_score(y, y_))\n",
        "y_hat = model.predict(x_test)\n",
        "print(\"test accuracy: \", accuracy_score(ytest, y_hat))\n",
        "print(\"classification report: \", classification_report(ytest, y_hat))"
      ],
      "metadata": {
        "colab": {
          "base_uri": "https://localhost:8080/"
        },
        "id": "i0vAjdKTA_PN",
        "outputId": "44f6ace6-313f-42ca-855c-5ed9a1444ae8"
      },
      "execution_count": 10,
      "outputs": [
        {
          "output_type": "stream",
          "name": "stdout",
          "text": [
            "train accuracy:  0.5046113550005533\n",
            "test accuracy:  0.29784132841328415\n"
          ]
        },
        {
          "output_type": "stream",
          "name": "stderr",
          "text": [
            "/usr/local/lib/python3.10/dist-packages/sklearn/metrics/_classification.py:1344: UndefinedMetricWarning: Precision and F-score are ill-defined and being set to 0.0 in labels with no predicted samples. Use `zero_division` parameter to control this behavior.\n",
            "  _warn_prf(average, modifier, msg_start, len(result))\n",
            "/usr/local/lib/python3.10/dist-packages/sklearn/metrics/_classification.py:1344: UndefinedMetricWarning: Precision and F-score are ill-defined and being set to 0.0 in labels with no predicted samples. Use `zero_division` parameter to control this behavior.\n",
            "  _warn_prf(average, modifier, msg_start, len(result))\n"
          ]
        },
        {
          "output_type": "stream",
          "name": "stdout",
          "text": [
            "classification report:                 precision    recall  f1-score   support\n",
            "\n",
            "      action        0.00      0.00      0.00      1314\n",
            "       adult        0.00      0.00      0.00       590\n",
            "   adventure        0.00      0.00      0.00       775\n",
            "   animation        0.00      0.00      0.00       498\n",
            "   biography        0.00      0.00      0.00       264\n",
            "      comedy        0.24      0.05      0.08      7446\n",
            "       crime        0.00      0.00      0.00       505\n",
            " documentary        0.29      0.76      0.42     13096\n",
            "       drama        0.32      0.43      0.37     13612\n",
            "      family        0.00      0.00      0.00       783\n",
            "     fantasy        0.00      0.00      0.00       322\n",
            "   game-show        0.00      0.00      0.00       193\n",
            "     history        0.00      0.00      0.00       243\n",
            "      horror        0.09      0.00      0.00      2204\n",
            "       music        0.00      0.00      0.00       731\n",
            "     musical        0.00      0.00      0.00       276\n",
            "     mystery        0.00      0.00      0.00       318\n",
            "        news        0.00      0.00      0.00       181\n",
            "  reality-tv        0.00      0.00      0.00       883\n",
            "     romance        0.00      0.00      0.00       672\n",
            "      sci-fi        0.00      0.00      0.00       646\n",
            "       short        0.17      0.00      0.01      5072\n",
            "       sport        0.00      0.00      0.00       431\n",
            "   talk-show        0.00      0.00      0.00       391\n",
            "    thriller        0.00      0.00      0.00      1590\n",
            "         war        0.00      0.00      0.00       132\n",
            "     western        0.00      0.00      0.00      1032\n",
            "\n",
            "     accuracy                           0.30     54200\n",
            "    macro avg       0.04      0.05      0.03     54200\n",
            " weighted avg       0.20      0.30      0.20     54200\n",
            "\n"
          ]
        },
        {
          "output_type": "stream",
          "name": "stderr",
          "text": [
            "/usr/local/lib/python3.10/dist-packages/sklearn/metrics/_classification.py:1344: UndefinedMetricWarning: Precision and F-score are ill-defined and being set to 0.0 in labels with no predicted samples. Use `zero_division` parameter to control this behavior.\n",
            "  _warn_prf(average, modifier, msg_start, len(result))\n"
          ]
        }
      ]
    },
    {
      "cell_type": "code",
      "source": [
        "conf_matrix = confusion_matrix(ytest, y_hat)\n",
        "print(\"Confusion Matrix:\\n\", conf_matrix)"
      ],
      "metadata": {
        "colab": {
          "base_uri": "https://localhost:8080/"
        },
        "id": "QdAffTe1Lw5P",
        "outputId": "662dfcdf-80bb-4666-ffcd-47a079dfba73"
      },
      "execution_count": 11,
      "outputs": [
        {
          "output_type": "stream",
          "name": "stdout",
          "text": [
            "Confusion Matrix:\n",
            " [[   0    0    0    0    0   26    0  795  491    0    0    0    0    1\n",
            "     0    0    0    0    0    0    0    1    0    0    0    0    0]\n",
            " [   0    0    0    0    0   23    0  304  258    0    0    0    0    0\n",
            "     0    0    0    0    0    0    0    5    0    0    0    0    0]\n",
            " [   0    0    0    0    0   12    0  547  215    0    0    0    0    0\n",
            "     0    0    0    0    0    0    0    1    0    0    0    0    0]\n",
            " [   0    0    0    0    0   10    0  359  126    0    0    0    0    0\n",
            "     0    0    0    0    0    0    0    3    0    0    0    0    0]\n",
            " [   0    0    0    0    0    8    0  176   80    0    0    0    0    0\n",
            "     0    0    0    0    0    0    0    0    0    0    0    0    0]\n",
            " [   0    0    0    0    0  350    0 4283 2802    0    0    0    0    4\n",
            "     0    0    0    0    0    0    0    7    0    0    0    0    0]\n",
            " [   0    0    0    0    0   12    0  304  189    0    0    0    0    0\n",
            "     0    0    0    0    0    0    0    0    0    0    0    0    0]\n",
            " [   0    0    0    0    0  231    0 9987 2856    0    0    0    0    2\n",
            "     0    0    0    0    0    0    0   20    0    0    0    0    0]\n",
            " [   0    0    0    0    0  320    0 7492 5789    0    0    0    0    2\n",
            "     0    0    0    0    0    0    0    9    0    0    0    0    0]\n",
            " [   0    0    0    0    0   24    0  517  240    0    0    0    0    0\n",
            "     0    0    0    0    0    0    0    2    0    0    0    0    0]\n",
            " [   0    0    0    0    0    8    0  231   83    0    0    0    0    0\n",
            "     0    0    0    0    0    0    0    0    0    0    0    0    0]\n",
            " [   0    0    0    0    0   10    0  143   40    0    0    0    0    0\n",
            "     0    0    0    0    0    0    0    0    0    0    0    0    0]\n",
            " [   0    0    0    0    0    5    0  173   65    0    0    0    0    0\n",
            "     0    0    0    0    0    0    0    0    0    0    0    0    0]\n",
            " [   0    0    0    0    0   51    0 1407  743    0    0    0    0    1\n",
            "     0    0    0    0    0    0    0    2    0    0    0    0    0]\n",
            " [   0    0    0    0    0   16    0  527  179    0    0    0    0    0\n",
            "     0    0    0    0    0    0    0    9    0    0    0    0    0]\n",
            " [   0    0    0    0    0   10    0  165   99    0    0    0    0    0\n",
            "     0    0    0    0    0    0    0    2    0    0    0    0    0]\n",
            " [   0    0    0    0    0   10    0  202  106    0    0    0    0    0\n",
            "     0    0    0    0    0    0    0    0    0    0    0    0    0]\n",
            " [   0    0    0    0    0    6    0  125   50    0    0    0    0    0\n",
            "     0    0    0    0    0    0    0    0    0    0    0    0    0]\n",
            " [   0    0    0    0    0   19    0  622  238    0    0    0    0    0\n",
            "     0    0    0    0    0    0    0    4    0    0    0    0    0]\n",
            " [   0    0    0    0    0   18    0  371  281    0    0    0    0    1\n",
            "     0    0    0    0    0    0    0    1    0    0    0    0    0]\n",
            " [   0    0    0    0    0   15    0  463  168    0    0    0    0    0\n",
            "     0    0    0    0    0    0    0    0    0    0    0    0    0]\n",
            " [   0    0    0    0    0  164    0 3335 1557    0    0    0    0    0\n",
            "     0    0    0    0    0    0    0   16    0    0    0    0    0]\n",
            " [   0    0    0    0    0    8    0  349   71    0    0    0    0    0\n",
            "     0    0    0    0    0    0    0    3    0    0    0    0    0]\n",
            " [   0    0    0    0    0   15    0  296   79    0    0    0    0    0\n",
            "     0    0    0    0    0    0    0    1    0    0    0    0    0]\n",
            " [   0    0    0    0    0   40    0  935  612    0    0    0    0    0\n",
            "     0    0    0    0    0    0    0    3    0    0    0    0    0]\n",
            " [   0    0    0    0    0    2    0   85   45    0    0    0    0    0\n",
            "     0    0    0    0    0    0    0    0    0    0    0    0    0]\n",
            " [   0    0    0    0    0   27    0  633  368    0    0    0    0    0\n",
            "     0    0    0    0    0    0    0    4    0    0    0    0    0]]\n"
          ]
        }
      ]
    }
  ]
}